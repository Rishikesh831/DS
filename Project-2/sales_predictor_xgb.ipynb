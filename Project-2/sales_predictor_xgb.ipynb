{
 "cells": [
  {
   "cell_type": "markdown",
   "id": "5e1dda07",
   "metadata": {},
   "source": [
    "# Sales Predictor - XGBoost Model"
   ]
  },
  {
   "cell_type": "code",
   "execution_count": null,
   "id": "169ff655",
   "metadata": {},
   "outputs": [],
   "source": [
    "import pandas as pd\n",
    "import numpy as np\n",
    "import xgboost as xgb\n",
    "from sklearn.metrics import mean_squared_error, r2_score\n",
    "import matplotlib.pyplot as plt"
   ]
  },
  {
   "cell_type": "code",
   "execution_count": null,
   "id": "d2e4e565",
   "metadata": {},
   "outputs": [],
   "source": [
    "# Load training data\n",
    "df_train = pd.read_csv('/mnt/data/train.csv', parse_dates=['date'])\n",
    "\n",
    "# Sort values to maintain time order\n",
    "df_train = df_train.sort_values(by=['store', 'item', 'date'])\n"
   ]
  },
  {
   "cell_type": "code",
   "execution_count": null,
   "id": "bf86b270",
   "metadata": {},
   "outputs": [],
   "source": [
    "# Lag Features\n",
    "df_train['sales_lag_1'] = df_train.groupby(['store', 'item'])['sales'].shift(1)\n",
    "df_train['sales_lag_7'] = df_train.groupby(['store', 'item'])['sales'].shift(7)\n",
    "df_train['sales_lag_30'] = df_train.groupby(['store', 'item'])['sales'].shift(30)\n",
    "\n",
    "# Difference Features\n",
    "df_train['diff_1'] = df_train['sales'] - df_train['sales_lag_1']\n",
    "df_train['diff_7'] = df_train['sales'] - df_train['sales_lag_7']\n",
    "df_train['diff_30'] = df_train['sales'] - df_train['sales_lag_30']\n",
    "\n",
    "# Rolling Statistics\n",
    "df_train['rolling_mean_7'] = df_train.groupby(['store', 'item'])['sales'].transform(lambda x: x.shift(1).rolling(window=7).mean())\n",
    "df_train['rolling_mean_30'] = df_train.groupby(['store', 'item'])['sales'].transform(lambda x: x.shift(1).rolling(window=30).mean())\n",
    "df_train['rolling_std_7'] = df_train.groupby(['store', 'item'])['sales'].transform(lambda x: x.shift(1).rolling(window=7).std())\n",
    "df_train['rolling_std_30'] = df_train.groupby(['store', 'item'])['sales'].transform(lambda x: x.shift(1).rolling(window=30).std())\n",
    "\n",
    "# Drop rows with NaN (from feature engineering)\n",
    "df_train.dropna(inplace=True)\n"
   ]
  },
  {
   "cell_type": "code",
   "execution_count": null,
   "id": "a4582da8",
   "metadata": {},
   "outputs": [],
   "source": [
    "# Prepare train data for XGBoost\n",
    "X_train = df_train.drop(['date', 'sales'], axis=1)\n",
    "y_train = df_train['sales']\n",
    "dtrain = xgb.DMatrix(X_train, label=y_train)\n"
   ]
  },
  {
   "cell_type": "code",
   "execution_count": null,
   "id": "8d216deb",
   "metadata": {},
   "outputs": [],
   "source": [
    "# XGBoost parameters\n",
    "params = {\n",
    "    'objective': 'reg:squarederror',\n",
    "    'eval_metric': 'rmse',\n",
    "    'seed': 42\n",
    "}\n",
    "\n",
    "# Train the model\n",
    "model = xgb.train(params, dtrain, num_boost_round=100)\n"
   ]
  },
  {
   "cell_type": "code",
   "execution_count": null,
   "id": "e141b510",
   "metadata": {},
   "outputs": [],
   "source": [
    "# Load test data\n",
    "df_test = pd.read_csv('/mnt/data/test.csv', parse_dates=['date'])\n",
    "df_test = df_test.sort_values(by=['store', 'item', 'date'])\n",
    "\n",
    "# Combine train and test for feature engineering\n",
    "full_df = pd.concat([df_train[['date', 'store', 'item', 'sales']], df_test], sort=False)\n",
    "full_df = full_df.sort_values(by=['store', 'item', 'date'])\n"
   ]
  },
  {
   "cell_type": "code",
   "execution_count": null,
   "id": "a0b83cc6",
   "metadata": {},
   "outputs": [],
   "source": [
    "# Feature engineering on combined data\n",
    "full_df['sales_lag_1'] = full_df.groupby(['store', 'item'])['sales'].shift(1)\n",
    "full_df['sales_lag_7'] = full_df.groupby(['store', 'item'])['sales'].shift(7)\n",
    "full_df['sales_lag_30'] = full_df.groupby(['store', 'item'])['sales'].shift(30)\n",
    "full_df['diff_1'] = full_df['sales'] - full_df['sales_lag_1']\n",
    "full_df['diff_7'] = full_df['sales'] - full_df['sales_lag_7']\n",
    "full_df['diff_30'] = full_df['sales'] - full_df['sales_lag_30']\n",
    "full_df['rolling_mean_7'] = full_df.groupby(['store', 'item'])['sales'].transform(lambda x: x.shift(1).rolling(window=7).mean())\n",
    "full_df['rolling_mean_30'] = full_df.groupby(['store', 'item'])['sales'].transform(lambda x: x.shift(1).rolling(window=30).mean())\n",
    "full_df['rolling_std_7'] = full_df.groupby(['store', 'item'])['sales'].transform(lambda x: x.shift(1).rolling(window=7).std())\n",
    "full_df['rolling_std_30'] = full_df.groupby(['store', 'item'])['sales'].transform(lambda x: x.shift(1).rolling(window=30).std())\n"
   ]
  },
  {
   "cell_type": "code",
   "execution_count": null,
   "id": "36e18a02",
   "metadata": {},
   "outputs": [],
   "source": [
    "# Select only test rows (those without sales)\n",
    "df_test_feat = full_df[full_df['sales'].isna()].copy()\n",
    "df_test_feat.drop(['date', 'sales'], axis=1, inplace=True)\n",
    "\n",
    "# Fill any remaining NaNs with 0\n",
    "df_test_feat.fillna(0, inplace=True)\n",
    "\n",
    "dtest = xgb.DMatrix(df_test_feat.drop('id', axis=1))\n",
    "\n",
    "# Predict\n",
    "preds = model.predict(dtest)\n"
   ]
  },
  {
   "cell_type": "code",
   "execution_count": null,
   "id": "64b32485",
   "metadata": {},
   "outputs": [],
   "source": [
    "# Create submission\n",
    "submission = pd.DataFrame({\n",
    "    'id': df_test_feat['id'],\n",
    "    'sales': preds\n",
    "})\n",
    "\n",
    "# Save to CSV\n",
    "submission.to_csv('/mnt/data/xgb_submission.csv', index=False)\n",
    "\n",
    "print(\"Submission file created: xgb_submission.csv\")\n"
   ]
  }
 ],
 "metadata": {},
 "nbformat": 4,
 "nbformat_minor": 5
}
